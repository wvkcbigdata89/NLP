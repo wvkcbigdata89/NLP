{
  "nbformat": 4,
  "nbformat_minor": 0,
  "metadata": {
    "colab": {
      "provenance": [],
      "gpuType": "T4"
    },
    "kernelspec": {
      "name": "python3",
      "display_name": "Python 3"
    },
    "language_info": {
      "name": "python"
    },
    "accelerator": "GPU"
  },
  "cells": [
    {
      "cell_type": "markdown",
      "source": [
        "# **Carga de las librerías necesarias**"
      ],
      "metadata": {
        "id": "8w5QwLZkqKOU"
      }
    },
    {
      "cell_type": "code",
      "execution_count": 1,
      "metadata": {
        "id": "6rniB7kLSjLc"
      },
      "outputs": [],
      "source": [
        "import os\n",
        "import json\n",
        "import gzip\n",
        "import pandas as pd\n",
        "from urllib.request import urlopen"
      ]
    },
    {
      "cell_type": "markdown",
      "source": [
        "**Descarga del dataset desde la web**"
      ],
      "metadata": {
        "id": "rS3AfZWMqeua"
      }
    },
    {
      "cell_type": "code",
      "source": [
        "!wget https://datarepo.eng.ucsd.edu/mcauley_group/data/amazon_v2/categoryFiles/Grocery_and_Gourmet_Food.json.gz"
      ],
      "metadata": {
        "colab": {
          "base_uri": "https://localhost:8080/"
        },
        "id": "Wva0MPWgUOS2",
        "outputId": "4dc0ac48-1725-4d89-cf92-346481aabeaa"
      },
      "execution_count": 2,
      "outputs": [
        {
          "output_type": "stream",
          "name": "stdout",
          "text": [
            "--2023-08-21 20:53:46--  https://datarepo.eng.ucsd.edu/mcauley_group/data/amazon_v2/categoryFiles/Grocery_and_Gourmet_Food.json.gz\n",
            "Resolving datarepo.eng.ucsd.edu (datarepo.eng.ucsd.edu)... 132.239.8.30\n",
            "Connecting to datarepo.eng.ucsd.edu (datarepo.eng.ucsd.edu)|132.239.8.30|:443... connected.\n",
            "HTTP request sent, awaiting response... 200 OK\n",
            "Length: 586910426 (560M) [application/x-gzip]\n",
            "Saving to: ‘Grocery_and_Gourmet_Food.json.gz’\n",
            "\n",
            "Grocery_and_Gourmet 100%[===================>] 559.72M  17.9MB/s    in 33s     \n",
            "\n",
            "2023-08-21 20:54:20 (16.9 MB/s) - ‘Grocery_and_Gourmet_Food.json.gz’ saved [586910426/586910426]\n",
            "\n"
          ]
        }
      ]
    },
    {
      "cell_type": "markdown",
      "source": [
        "**Se carga la metadata. Para la práctica, se tomarán 100,000 muestras**"
      ],
      "metadata": {
        "id": "H1u8EUgntDsw"
      }
    },
    {
      "cell_type": "code",
      "source": [
        "# Cargar la metadata\n",
        "data = []\n",
        "with gzip.open('Grocery_and_Gourmet_Food.json.gz') as f:\n",
        "    # Tomar solo las primeras 100,000 filas\n",
        "    for i, l in enumerate(f):\n",
        "        data.append(json.loads(l.strip()))\n",
        "        if i == 99999:  # Detener lectura hasta llegar a 100,000 filas (se empieza a contar con el 0)\n",
        "            break\n",
        "\n",
        "print(len(data))\n",
        "\n",
        "print(data[0])"
      ],
      "metadata": {
        "colab": {
          "base_uri": "https://localhost:8080/"
        },
        "id": "mKUkoDvRVJ7M",
        "outputId": "f93076d7-7ebc-4e93-9370-922a7fc606db"
      },
      "execution_count": 3,
      "outputs": [
        {
          "output_type": "stream",
          "name": "stdout",
          "text": [
            "100000\n",
            "{'overall': 5.0, 'verified': True, 'reviewTime': '06 4, 2013', 'reviewerID': 'ALP49FBWT4I7V', 'asin': '1888861614', 'reviewerName': 'Lori', 'reviewText': 'Very pleased with my purchase. Looks exactly like the picture and will look great on my cake. It definitely will sparkle.', 'summary': 'Love it', 'unixReviewTime': 1370304000}\n"
          ]
        }
      ]
    },
    {
      "cell_type": "code",
      "source": [
        "# Convertir el archivo json en un dataframe\n",
        "\n",
        "df = pd.DataFrame.from_dict(data)\n",
        "\n",
        "print(len(df))"
      ],
      "metadata": {
        "colab": {
          "base_uri": "https://localhost:8080/"
        },
        "id": "XFPx00z7Vzat",
        "outputId": "aa105534-761f-4e5a-b849-d8f8ba8cceb9"
      },
      "execution_count": 4,
      "outputs": [
        {
          "output_type": "stream",
          "name": "stdout",
          "text": [
            "100000\n"
          ]
        }
      ]
    },
    {
      "cell_type": "code",
      "source": [
        "df.head(5).T"
      ],
      "metadata": {
        "colab": {
          "base_uri": "https://localhost:8080/",
          "height": 460
        },
        "id": "DWXmPUUGV3KL",
        "outputId": "5cdd97f8-0475-49c8-92ed-51d132e963a1"
      },
      "execution_count": 5,
      "outputs": [
        {
          "output_type": "execute_result",
          "data": {
            "text/plain": [
              "                                                                0  \\\n",
              "overall                                                       5.0   \n",
              "verified                                                     True   \n",
              "reviewTime                                             06 4, 2013   \n",
              "reviewerID                                          ALP49FBWT4I7V   \n",
              "asin                                                   1888861614   \n",
              "reviewerName                                                 Lori   \n",
              "reviewText      Very pleased with my purchase. Looks exactly l...   \n",
              "summary                                                   Love it   \n",
              "unixReviewTime                                         1370304000   \n",
              "vote                                                          NaN   \n",
              "image                                                         NaN   \n",
              "style                                                         NaN   \n",
              "\n",
              "                                                                1  \\\n",
              "overall                                                       4.0   \n",
              "verified                                                     True   \n",
              "reviewTime                                            05 23, 2014   \n",
              "reviewerID                                         A1KPIZOCLB9FZ8   \n",
              "asin                                                   1888861614   \n",
              "reviewerName                                           BK Shopper   \n",
              "reviewText      Very nicely crafted but too small. Am going to...   \n",
              "summary                                            Nice but small   \n",
              "unixReviewTime                                         1400803200   \n",
              "vote                                                          NaN   \n",
              "image                                                         NaN   \n",
              "style                                                         NaN   \n",
              "\n",
              "                                                                2  \\\n",
              "overall                                                       4.0   \n",
              "verified                                                     True   \n",
              "reviewTime                                             05 9, 2014   \n",
              "reviewerID                                         A2W0FA06IYAYQE   \n",
              "asin                                                   1888861614   \n",
              "reviewerName                                       daninethequeen   \n",
              "reviewText      still very pretty and well made...i am super p...   \n",
              "summary                              the \"s\" looks like a 5, kina   \n",
              "unixReviewTime                                         1399593600   \n",
              "vote                                                          NaN   \n",
              "image                                                         NaN   \n",
              "style                                                         NaN   \n",
              "\n",
              "                                                                3  \\\n",
              "overall                                                       5.0   \n",
              "verified                                                     True   \n",
              "reviewTime                                            04 20, 2014   \n",
              "reviewerID                                         A2PTZTCH2QUYBC   \n",
              "asin                                                   1888861614   \n",
              "reviewerName                                              Tammara   \n",
              "reviewText      I got this for our wedding cake, and it was ev...   \n",
              "summary                         Would recommend this to a friend!   \n",
              "unixReviewTime                                         1397952000   \n",
              "vote                                                          NaN   \n",
              "image                                                         NaN   \n",
              "style                                                         NaN   \n",
              "\n",
              "                                                                4  \n",
              "overall                                                       4.0  \n",
              "verified                                                     True  \n",
              "reviewTime                                            04 16, 2014  \n",
              "reviewerID                                         A2VNHGJ59N4Z90  \n",
              "asin                                                   1888861614  \n",
              "reviewerName                                   LaQuinta Alexander  \n",
              "reviewText      It was just what I want to put at the top of m...  \n",
              "summary                                                    Topper  \n",
              "unixReviewTime                                         1397606400  \n",
              "vote                                                          NaN  \n",
              "image                                                         NaN  \n",
              "style                                                         NaN  "
            ],
            "text/html": [
              "\n",
              "  <div id=\"df-fd82c86e-f93b-46f7-8c1f-e09d93417a20\" class=\"colab-df-container\">\n",
              "    <div>\n",
              "<style scoped>\n",
              "    .dataframe tbody tr th:only-of-type {\n",
              "        vertical-align: middle;\n",
              "    }\n",
              "\n",
              "    .dataframe tbody tr th {\n",
              "        vertical-align: top;\n",
              "    }\n",
              "\n",
              "    .dataframe thead th {\n",
              "        text-align: right;\n",
              "    }\n",
              "</style>\n",
              "<table border=\"1\" class=\"dataframe\">\n",
              "  <thead>\n",
              "    <tr style=\"text-align: right;\">\n",
              "      <th></th>\n",
              "      <th>0</th>\n",
              "      <th>1</th>\n",
              "      <th>2</th>\n",
              "      <th>3</th>\n",
              "      <th>4</th>\n",
              "    </tr>\n",
              "  </thead>\n",
              "  <tbody>\n",
              "    <tr>\n",
              "      <th>overall</th>\n",
              "      <td>5.0</td>\n",
              "      <td>4.0</td>\n",
              "      <td>4.0</td>\n",
              "      <td>5.0</td>\n",
              "      <td>4.0</td>\n",
              "    </tr>\n",
              "    <tr>\n",
              "      <th>verified</th>\n",
              "      <td>True</td>\n",
              "      <td>True</td>\n",
              "      <td>True</td>\n",
              "      <td>True</td>\n",
              "      <td>True</td>\n",
              "    </tr>\n",
              "    <tr>\n",
              "      <th>reviewTime</th>\n",
              "      <td>06 4, 2013</td>\n",
              "      <td>05 23, 2014</td>\n",
              "      <td>05 9, 2014</td>\n",
              "      <td>04 20, 2014</td>\n",
              "      <td>04 16, 2014</td>\n",
              "    </tr>\n",
              "    <tr>\n",
              "      <th>reviewerID</th>\n",
              "      <td>ALP49FBWT4I7V</td>\n",
              "      <td>A1KPIZOCLB9FZ8</td>\n",
              "      <td>A2W0FA06IYAYQE</td>\n",
              "      <td>A2PTZTCH2QUYBC</td>\n",
              "      <td>A2VNHGJ59N4Z90</td>\n",
              "    </tr>\n",
              "    <tr>\n",
              "      <th>asin</th>\n",
              "      <td>1888861614</td>\n",
              "      <td>1888861614</td>\n",
              "      <td>1888861614</td>\n",
              "      <td>1888861614</td>\n",
              "      <td>1888861614</td>\n",
              "    </tr>\n",
              "    <tr>\n",
              "      <th>reviewerName</th>\n",
              "      <td>Lori</td>\n",
              "      <td>BK Shopper</td>\n",
              "      <td>daninethequeen</td>\n",
              "      <td>Tammara</td>\n",
              "      <td>LaQuinta Alexander</td>\n",
              "    </tr>\n",
              "    <tr>\n",
              "      <th>reviewText</th>\n",
              "      <td>Very pleased with my purchase. Looks exactly l...</td>\n",
              "      <td>Very nicely crafted but too small. Am going to...</td>\n",
              "      <td>still very pretty and well made...i am super p...</td>\n",
              "      <td>I got this for our wedding cake, and it was ev...</td>\n",
              "      <td>It was just what I want to put at the top of m...</td>\n",
              "    </tr>\n",
              "    <tr>\n",
              "      <th>summary</th>\n",
              "      <td>Love it</td>\n",
              "      <td>Nice but small</td>\n",
              "      <td>the \"s\" looks like a 5, kina</td>\n",
              "      <td>Would recommend this to a friend!</td>\n",
              "      <td>Topper</td>\n",
              "    </tr>\n",
              "    <tr>\n",
              "      <th>unixReviewTime</th>\n",
              "      <td>1370304000</td>\n",
              "      <td>1400803200</td>\n",
              "      <td>1399593600</td>\n",
              "      <td>1397952000</td>\n",
              "      <td>1397606400</td>\n",
              "    </tr>\n",
              "    <tr>\n",
              "      <th>vote</th>\n",
              "      <td>NaN</td>\n",
              "      <td>NaN</td>\n",
              "      <td>NaN</td>\n",
              "      <td>NaN</td>\n",
              "      <td>NaN</td>\n",
              "    </tr>\n",
              "    <tr>\n",
              "      <th>image</th>\n",
              "      <td>NaN</td>\n",
              "      <td>NaN</td>\n",
              "      <td>NaN</td>\n",
              "      <td>NaN</td>\n",
              "      <td>NaN</td>\n",
              "    </tr>\n",
              "    <tr>\n",
              "      <th>style</th>\n",
              "      <td>NaN</td>\n",
              "      <td>NaN</td>\n",
              "      <td>NaN</td>\n",
              "      <td>NaN</td>\n",
              "      <td>NaN</td>\n",
              "    </tr>\n",
              "  </tbody>\n",
              "</table>\n",
              "</div>\n",
              "    <div class=\"colab-df-buttons\">\n",
              "\n",
              "  <div class=\"colab-df-container\">\n",
              "    <button class=\"colab-df-convert\" onclick=\"convertToInteractive('df-fd82c86e-f93b-46f7-8c1f-e09d93417a20')\"\n",
              "            title=\"Convert this dataframe to an interactive table.\"\n",
              "            style=\"display:none;\">\n",
              "\n",
              "  <svg xmlns=\"http://www.w3.org/2000/svg\" height=\"24px\" viewBox=\"0 -960 960 960\">\n",
              "    <path d=\"M120-120v-720h720v720H120Zm60-500h600v-160H180v160Zm220 220h160v-160H400v160Zm0 220h160v-160H400v160ZM180-400h160v-160H180v160Zm440 0h160v-160H620v160ZM180-180h160v-160H180v160Zm440 0h160v-160H620v160Z\"/>\n",
              "  </svg>\n",
              "    </button>\n",
              "\n",
              "  <style>\n",
              "    .colab-df-container {\n",
              "      display:flex;\n",
              "      gap: 12px;\n",
              "    }\n",
              "\n",
              "    .colab-df-convert {\n",
              "      background-color: #E8F0FE;\n",
              "      border: none;\n",
              "      border-radius: 50%;\n",
              "      cursor: pointer;\n",
              "      display: none;\n",
              "      fill: #1967D2;\n",
              "      height: 32px;\n",
              "      padding: 0 0 0 0;\n",
              "      width: 32px;\n",
              "    }\n",
              "\n",
              "    .colab-df-convert:hover {\n",
              "      background-color: #E2EBFA;\n",
              "      box-shadow: 0px 1px 2px rgba(60, 64, 67, 0.3), 0px 1px 3px 1px rgba(60, 64, 67, 0.15);\n",
              "      fill: #174EA6;\n",
              "    }\n",
              "\n",
              "    .colab-df-buttons div {\n",
              "      margin-bottom: 4px;\n",
              "    }\n",
              "\n",
              "    [theme=dark] .colab-df-convert {\n",
              "      background-color: #3B4455;\n",
              "      fill: #D2E3FC;\n",
              "    }\n",
              "\n",
              "    [theme=dark] .colab-df-convert:hover {\n",
              "      background-color: #434B5C;\n",
              "      box-shadow: 0px 1px 3px 1px rgba(0, 0, 0, 0.15);\n",
              "      filter: drop-shadow(0px 1px 2px rgba(0, 0, 0, 0.3));\n",
              "      fill: #FFFFFF;\n",
              "    }\n",
              "  </style>\n",
              "\n",
              "    <script>\n",
              "      const buttonEl =\n",
              "        document.querySelector('#df-fd82c86e-f93b-46f7-8c1f-e09d93417a20 button.colab-df-convert');\n",
              "      buttonEl.style.display =\n",
              "        google.colab.kernel.accessAllowed ? 'block' : 'none';\n",
              "\n",
              "      async function convertToInteractive(key) {\n",
              "        const element = document.querySelector('#df-fd82c86e-f93b-46f7-8c1f-e09d93417a20');\n",
              "        const dataTable =\n",
              "          await google.colab.kernel.invokeFunction('convertToInteractive',\n",
              "                                                    [key], {});\n",
              "        if (!dataTable) return;\n",
              "\n",
              "        const docLinkHtml = 'Like what you see? Visit the ' +\n",
              "          '<a target=\"_blank\" href=https://colab.research.google.com/notebooks/data_table.ipynb>data table notebook</a>'\n",
              "          + ' to learn more about interactive tables.';\n",
              "        element.innerHTML = '';\n",
              "        dataTable['output_type'] = 'display_data';\n",
              "        await google.colab.output.renderOutput(dataTable, element);\n",
              "        const docLink = document.createElement('div');\n",
              "        docLink.innerHTML = docLinkHtml;\n",
              "        element.appendChild(docLink);\n",
              "      }\n",
              "    </script>\n",
              "  </div>\n",
              "\n",
              "\n",
              "<div id=\"df-c58ae34e-2b00-4f6f-bb97-90b87198b96b\">\n",
              "  <button class=\"colab-df-quickchart\" onclick=\"quickchart('df-c58ae34e-2b00-4f6f-bb97-90b87198b96b')\"\n",
              "            title=\"Suggest charts.\"\n",
              "            style=\"display:none;\">\n",
              "\n",
              "<svg xmlns=\"http://www.w3.org/2000/svg\" height=\"24px\"viewBox=\"0 0 24 24\"\n",
              "     width=\"24px\">\n",
              "    <g>\n",
              "        <path d=\"M19 3H5c-1.1 0-2 .9-2 2v14c0 1.1.9 2 2 2h14c1.1 0 2-.9 2-2V5c0-1.1-.9-2-2-2zM9 17H7v-7h2v7zm4 0h-2V7h2v10zm4 0h-2v-4h2v4z\"/>\n",
              "    </g>\n",
              "</svg>\n",
              "  </button>\n",
              "\n",
              "<style>\n",
              "  .colab-df-quickchart {\n",
              "    background-color: #E8F0FE;\n",
              "    border: none;\n",
              "    border-radius: 50%;\n",
              "    cursor: pointer;\n",
              "    display: none;\n",
              "    fill: #1967D2;\n",
              "    height: 32px;\n",
              "    padding: 0 0 0 0;\n",
              "    width: 32px;\n",
              "  }\n",
              "\n",
              "  .colab-df-quickchart:hover {\n",
              "    background-color: #E2EBFA;\n",
              "    box-shadow: 0px 1px 2px rgba(60, 64, 67, 0.3), 0px 1px 3px 1px rgba(60, 64, 67, 0.15);\n",
              "    fill: #174EA6;\n",
              "  }\n",
              "\n",
              "  [theme=dark] .colab-df-quickchart {\n",
              "    background-color: #3B4455;\n",
              "    fill: #D2E3FC;\n",
              "  }\n",
              "\n",
              "  [theme=dark] .colab-df-quickchart:hover {\n",
              "    background-color: #434B5C;\n",
              "    box-shadow: 0px 1px 3px 1px rgba(0, 0, 0, 0.15);\n",
              "    filter: drop-shadow(0px 1px 2px rgba(0, 0, 0, 0.3));\n",
              "    fill: #FFFFFF;\n",
              "  }\n",
              "</style>\n",
              "\n",
              "  <script>\n",
              "    async function quickchart(key) {\n",
              "      const charts = await google.colab.kernel.invokeFunction(\n",
              "          'suggestCharts', [key], {});\n",
              "    }\n",
              "    (() => {\n",
              "      let quickchartButtonEl =\n",
              "        document.querySelector('#df-c58ae34e-2b00-4f6f-bb97-90b87198b96b button');\n",
              "      quickchartButtonEl.style.display =\n",
              "        google.colab.kernel.accessAllowed ? 'block' : 'none';\n",
              "    })();\n",
              "  </script>\n",
              "</div>\n",
              "    </div>\n",
              "  </div>\n"
            ]
          },
          "metadata": {},
          "execution_count": 5
        }
      ]
    },
    {
      "cell_type": "code",
      "source": [
        "# Eliminar las filas con valores nulos en la columna \"reviewText\"\n",
        "df.dropna(subset=[\"reviewText\"], inplace=True)"
      ],
      "metadata": {
        "id": "APzK3K0ZjASK"
      },
      "execution_count": 6,
      "outputs": []
    },
    {
      "cell_type": "markdown",
      "source": [
        "**Se crea un nuevo csv con datos balanceados, basados en los datos de la columna 'Overall'**"
      ],
      "metadata": {
        "id": "0iJpRUpntNva"
      }
    },
    {
      "cell_type": "code",
      "source": [
        "import pandas as pd\n",
        "\n",
        "filtered_df = df[df['overall'].isin([1, 2, 3, 4, 5])]\n",
        "\n",
        "# Obtener la cantidad mínima de overall\n",
        "min_count = filtered_df['overall'].value_counts().min()\n",
        "num_samples = min_count\n",
        "\n",
        "# Obtener la misma cantidad de muestras por cada overall (1, 2, 3, 4, 5)\n",
        "sampled_df_1 = filtered_df[filtered_df['overall'] == 1].sample(n=num_samples, replace=True)[['overall', 'reviewText']]\n",
        "sampled_df_2 = filtered_df[filtered_df['overall'] == 2].sample(n=num_samples, replace=True)[['overall', 'reviewText']]\n",
        "sampled_df_3 = filtered_df[filtered_df['overall'] == 3].sample(n=num_samples, replace=True)[['overall', 'reviewText']]\n",
        "sampled_df_4 = filtered_df[filtered_df['overall'] == 4].sample(n=num_samples, replace=True)[['overall', 'reviewText']]\n",
        "sampled_df_5 = filtered_df[filtered_df['overall'] == 5].sample(n=num_samples, replace=True)[['overall', 'reviewText']]\n",
        "\n",
        "result_df = pd.concat([sampled_df_1, sampled_df_2, sampled_df_3, sampled_df_4, sampled_df_5])\n",
        "\n",
        "result_df.to_csv('sampled_data_file.csv', index=False)"
      ],
      "metadata": {
        "id": "lcs4PwjoNWbh"
      },
      "execution_count": 7,
      "outputs": []
    },
    {
      "cell_type": "code",
      "source": [
        "# Ruta completa al archivo\n",
        "file_path = '/content/sampled_data_file.csv'\n",
        "\n",
        "# Carga el archivo CSV en un DataFrame\n",
        "data_file = pd.read_csv(file_path)\n",
        "\n",
        "data_file.head(5).T"
      ],
      "metadata": {
        "colab": {
          "base_uri": "https://localhost:8080/",
          "height": 129
        },
        "id": "HvIT8jgCNlHn",
        "outputId": "07ae5a05-6b92-4d35-80d9-7ce26145b1c6"
      },
      "execution_count": 8,
      "outputs": [
        {
          "output_type": "execute_result",
          "data": {
            "text/plain": [
              "                                                            0  \\\n",
              "overall                                                   1.0   \n",
              "reviewText  I'm not sure where to begin. Truth is I'm a bi...   \n",
              "\n",
              "                                                            1  \\\n",
              "overall                                                   1.0   \n",
              "reviewText  Didn't read the description as well as I shoul...   \n",
              "\n",
              "                                                            2            3  \\\n",
              "overall                                                   1.0          1.0   \n",
              "reviewText  Awful, just awful.  But Amazon was very good a...  Didn't work   \n",
              "\n",
              "                                                            4  \n",
              "overall                                                   1.0  \n",
              "reviewText  I drink a lot of green tea and was looking for...  "
            ],
            "text/html": [
              "\n",
              "  <div id=\"df-436e5080-2523-418d-9be3-0d92ed725d4e\" class=\"colab-df-container\">\n",
              "    <div>\n",
              "<style scoped>\n",
              "    .dataframe tbody tr th:only-of-type {\n",
              "        vertical-align: middle;\n",
              "    }\n",
              "\n",
              "    .dataframe tbody tr th {\n",
              "        vertical-align: top;\n",
              "    }\n",
              "\n",
              "    .dataframe thead th {\n",
              "        text-align: right;\n",
              "    }\n",
              "</style>\n",
              "<table border=\"1\" class=\"dataframe\">\n",
              "  <thead>\n",
              "    <tr style=\"text-align: right;\">\n",
              "      <th></th>\n",
              "      <th>0</th>\n",
              "      <th>1</th>\n",
              "      <th>2</th>\n",
              "      <th>3</th>\n",
              "      <th>4</th>\n",
              "    </tr>\n",
              "  </thead>\n",
              "  <tbody>\n",
              "    <tr>\n",
              "      <th>overall</th>\n",
              "      <td>1.0</td>\n",
              "      <td>1.0</td>\n",
              "      <td>1.0</td>\n",
              "      <td>1.0</td>\n",
              "      <td>1.0</td>\n",
              "    </tr>\n",
              "    <tr>\n",
              "      <th>reviewText</th>\n",
              "      <td>I'm not sure where to begin. Truth is I'm a bi...</td>\n",
              "      <td>Didn't read the description as well as I shoul...</td>\n",
              "      <td>Awful, just awful.  But Amazon was very good a...</td>\n",
              "      <td>Didn't work</td>\n",
              "      <td>I drink a lot of green tea and was looking for...</td>\n",
              "    </tr>\n",
              "  </tbody>\n",
              "</table>\n",
              "</div>\n",
              "    <div class=\"colab-df-buttons\">\n",
              "\n",
              "  <div class=\"colab-df-container\">\n",
              "    <button class=\"colab-df-convert\" onclick=\"convertToInteractive('df-436e5080-2523-418d-9be3-0d92ed725d4e')\"\n",
              "            title=\"Convert this dataframe to an interactive table.\"\n",
              "            style=\"display:none;\">\n",
              "\n",
              "  <svg xmlns=\"http://www.w3.org/2000/svg\" height=\"24px\" viewBox=\"0 -960 960 960\">\n",
              "    <path d=\"M120-120v-720h720v720H120Zm60-500h600v-160H180v160Zm220 220h160v-160H400v160Zm0 220h160v-160H400v160ZM180-400h160v-160H180v160Zm440 0h160v-160H620v160ZM180-180h160v-160H180v160Zm440 0h160v-160H620v160Z\"/>\n",
              "  </svg>\n",
              "    </button>\n",
              "\n",
              "  <style>\n",
              "    .colab-df-container {\n",
              "      display:flex;\n",
              "      gap: 12px;\n",
              "    }\n",
              "\n",
              "    .colab-df-convert {\n",
              "      background-color: #E8F0FE;\n",
              "      border: none;\n",
              "      border-radius: 50%;\n",
              "      cursor: pointer;\n",
              "      display: none;\n",
              "      fill: #1967D2;\n",
              "      height: 32px;\n",
              "      padding: 0 0 0 0;\n",
              "      width: 32px;\n",
              "    }\n",
              "\n",
              "    .colab-df-convert:hover {\n",
              "      background-color: #E2EBFA;\n",
              "      box-shadow: 0px 1px 2px rgba(60, 64, 67, 0.3), 0px 1px 3px 1px rgba(60, 64, 67, 0.15);\n",
              "      fill: #174EA6;\n",
              "    }\n",
              "\n",
              "    .colab-df-buttons div {\n",
              "      margin-bottom: 4px;\n",
              "    }\n",
              "\n",
              "    [theme=dark] .colab-df-convert {\n",
              "      background-color: #3B4455;\n",
              "      fill: #D2E3FC;\n",
              "    }\n",
              "\n",
              "    [theme=dark] .colab-df-convert:hover {\n",
              "      background-color: #434B5C;\n",
              "      box-shadow: 0px 1px 3px 1px rgba(0, 0, 0, 0.15);\n",
              "      filter: drop-shadow(0px 1px 2px rgba(0, 0, 0, 0.3));\n",
              "      fill: #FFFFFF;\n",
              "    }\n",
              "  </style>\n",
              "\n",
              "    <script>\n",
              "      const buttonEl =\n",
              "        document.querySelector('#df-436e5080-2523-418d-9be3-0d92ed725d4e button.colab-df-convert');\n",
              "      buttonEl.style.display =\n",
              "        google.colab.kernel.accessAllowed ? 'block' : 'none';\n",
              "\n",
              "      async function convertToInteractive(key) {\n",
              "        const element = document.querySelector('#df-436e5080-2523-418d-9be3-0d92ed725d4e');\n",
              "        const dataTable =\n",
              "          await google.colab.kernel.invokeFunction('convertToInteractive',\n",
              "                                                    [key], {});\n",
              "        if (!dataTable) return;\n",
              "\n",
              "        const docLinkHtml = 'Like what you see? Visit the ' +\n",
              "          '<a target=\"_blank\" href=https://colab.research.google.com/notebooks/data_table.ipynb>data table notebook</a>'\n",
              "          + ' to learn more about interactive tables.';\n",
              "        element.innerHTML = '';\n",
              "        dataTable['output_type'] = 'display_data';\n",
              "        await google.colab.output.renderOutput(dataTable, element);\n",
              "        const docLink = document.createElement('div');\n",
              "        docLink.innerHTML = docLinkHtml;\n",
              "        element.appendChild(docLink);\n",
              "      }\n",
              "    </script>\n",
              "  </div>\n",
              "\n",
              "\n",
              "<div id=\"df-b0e506f1-e146-4c7e-ba52-d7064d99738d\">\n",
              "  <button class=\"colab-df-quickchart\" onclick=\"quickchart('df-b0e506f1-e146-4c7e-ba52-d7064d99738d')\"\n",
              "            title=\"Suggest charts.\"\n",
              "            style=\"display:none;\">\n",
              "\n",
              "<svg xmlns=\"http://www.w3.org/2000/svg\" height=\"24px\"viewBox=\"0 0 24 24\"\n",
              "     width=\"24px\">\n",
              "    <g>\n",
              "        <path d=\"M19 3H5c-1.1 0-2 .9-2 2v14c0 1.1.9 2 2 2h14c1.1 0 2-.9 2-2V5c0-1.1-.9-2-2-2zM9 17H7v-7h2v7zm4 0h-2V7h2v10zm4 0h-2v-4h2v4z\"/>\n",
              "    </g>\n",
              "</svg>\n",
              "  </button>\n",
              "\n",
              "<style>\n",
              "  .colab-df-quickchart {\n",
              "    background-color: #E8F0FE;\n",
              "    border: none;\n",
              "    border-radius: 50%;\n",
              "    cursor: pointer;\n",
              "    display: none;\n",
              "    fill: #1967D2;\n",
              "    height: 32px;\n",
              "    padding: 0 0 0 0;\n",
              "    width: 32px;\n",
              "  }\n",
              "\n",
              "  .colab-df-quickchart:hover {\n",
              "    background-color: #E2EBFA;\n",
              "    box-shadow: 0px 1px 2px rgba(60, 64, 67, 0.3), 0px 1px 3px 1px rgba(60, 64, 67, 0.15);\n",
              "    fill: #174EA6;\n",
              "  }\n",
              "\n",
              "  [theme=dark] .colab-df-quickchart {\n",
              "    background-color: #3B4455;\n",
              "    fill: #D2E3FC;\n",
              "  }\n",
              "\n",
              "  [theme=dark] .colab-df-quickchart:hover {\n",
              "    background-color: #434B5C;\n",
              "    box-shadow: 0px 1px 3px 1px rgba(0, 0, 0, 0.15);\n",
              "    filter: drop-shadow(0px 1px 2px rgba(0, 0, 0, 0.3));\n",
              "    fill: #FFFFFF;\n",
              "  }\n",
              "</style>\n",
              "\n",
              "  <script>\n",
              "    async function quickchart(key) {\n",
              "      const charts = await google.colab.kernel.invokeFunction(\n",
              "          'suggestCharts', [key], {});\n",
              "    }\n",
              "    (() => {\n",
              "      let quickchartButtonEl =\n",
              "        document.querySelector('#df-b0e506f1-e146-4c7e-ba52-d7064d99738d button');\n",
              "      quickchartButtonEl.style.display =\n",
              "        google.colab.kernel.accessAllowed ? 'block' : 'none';\n",
              "    })();\n",
              "  </script>\n",
              "</div>\n",
              "    </div>\n",
              "  </div>\n"
            ]
          },
          "metadata": {},
          "execution_count": 8
        }
      ]
    },
    {
      "cell_type": "code",
      "source": [
        "# Visualización de la distribución de datos basados en la columna 'Overall'\n",
        "\n",
        "overall_counts = data_file['overall'].value_counts()\n",
        "\n",
        "print(overall_counts)"
      ],
      "metadata": {
        "colab": {
          "base_uri": "https://localhost:8080/"
        },
        "id": "UZvl2OWhOmyR",
        "outputId": "72dff6a1-8a87-461f-82ef-dfa7d4860de9"
      },
      "execution_count": 9,
      "outputs": [
        {
          "output_type": "stream",
          "name": "stdout",
          "text": [
            "1.0    3581\n",
            "2.0    3581\n",
            "3.0    3581\n",
            "4.0    3581\n",
            "5.0    3581\n",
            "Name: overall, dtype: int64\n"
          ]
        }
      ]
    },
    {
      "cell_type": "markdown",
      "source": [
        "**Se separan las palabras de cada review**"
      ],
      "metadata": {
        "id": "eCPEElFgvcWP"
      }
    },
    {
      "cell_type": "code",
      "source": [
        "splitted_reviews = data_file['reviewText'].str.lower().str.split()"
      ],
      "metadata": {
        "id": "sgkHrBZQnG1t"
      },
      "execution_count": 10,
      "outputs": []
    },
    {
      "cell_type": "code",
      "source": [
        "words = splitted_reviews.apply(pd.Series).stack().reset_index(drop = True)"
      ],
      "metadata": {
        "id": "VBeONTYU0RVb"
      },
      "execution_count": 11,
      "outputs": []
    },
    {
      "cell_type": "markdown",
      "source": [
        "**Se crea función para hacer el etiquetado de sentimientos en los reviews, donde 1 es un sentimiento negativo, y 0 es un sentimiento positivo**"
      ],
      "metadata": {
        "id": "5yAp75J5KfjU"
      }
    },
    {
      "cell_type": "code",
      "source": [
        "def label_sentiment(row):\n",
        "    if int(row['overall']) < 3:\n",
        "        return 1 # Sentimiento negativo\n",
        "    else:\n",
        "        return 0 # Sentimiento positivo"
      ],
      "metadata": {
        "id": "124uyt7w0lTD"
      },
      "execution_count": 12,
      "outputs": []
    },
    {
      "cell_type": "code",
      "source": [
        "data_file['sentiment_label'] = data_file.apply(lambda row: label_sentiment(row), axis=1)"
      ],
      "metadata": {
        "id": "MUmwJDj205Jm"
      },
      "execution_count": 13,
      "outputs": []
    },
    {
      "cell_type": "code",
      "source": [
        "data_file.head()"
      ],
      "metadata": {
        "colab": {
          "base_uri": "https://localhost:8080/",
          "height": 206
        },
        "id": "fmXrSG_Z1KWj",
        "outputId": "e63104c2-e8ea-44d9-b48a-51c33b4b0751"
      },
      "execution_count": 14,
      "outputs": [
        {
          "output_type": "execute_result",
          "data": {
            "text/plain": [
              "   overall                                         reviewText  sentiment_label\n",
              "0      1.0  I'm not sure where to begin. Truth is I'm a bi...                1\n",
              "1      1.0  Didn't read the description as well as I shoul...                1\n",
              "2      1.0  Awful, just awful.  But Amazon was very good a...                1\n",
              "3      1.0                                        Didn't work                1\n",
              "4      1.0  I drink a lot of green tea and was looking for...                1"
            ],
            "text/html": [
              "\n",
              "  <div id=\"df-496f6e95-6c3c-41de-a2f5-45be524130dd\" class=\"colab-df-container\">\n",
              "    <div>\n",
              "<style scoped>\n",
              "    .dataframe tbody tr th:only-of-type {\n",
              "        vertical-align: middle;\n",
              "    }\n",
              "\n",
              "    .dataframe tbody tr th {\n",
              "        vertical-align: top;\n",
              "    }\n",
              "\n",
              "    .dataframe thead th {\n",
              "        text-align: right;\n",
              "    }\n",
              "</style>\n",
              "<table border=\"1\" class=\"dataframe\">\n",
              "  <thead>\n",
              "    <tr style=\"text-align: right;\">\n",
              "      <th></th>\n",
              "      <th>overall</th>\n",
              "      <th>reviewText</th>\n",
              "      <th>sentiment_label</th>\n",
              "    </tr>\n",
              "  </thead>\n",
              "  <tbody>\n",
              "    <tr>\n",
              "      <th>0</th>\n",
              "      <td>1.0</td>\n",
              "      <td>I'm not sure where to begin. Truth is I'm a bi...</td>\n",
              "      <td>1</td>\n",
              "    </tr>\n",
              "    <tr>\n",
              "      <th>1</th>\n",
              "      <td>1.0</td>\n",
              "      <td>Didn't read the description as well as I shoul...</td>\n",
              "      <td>1</td>\n",
              "    </tr>\n",
              "    <tr>\n",
              "      <th>2</th>\n",
              "      <td>1.0</td>\n",
              "      <td>Awful, just awful.  But Amazon was very good a...</td>\n",
              "      <td>1</td>\n",
              "    </tr>\n",
              "    <tr>\n",
              "      <th>3</th>\n",
              "      <td>1.0</td>\n",
              "      <td>Didn't work</td>\n",
              "      <td>1</td>\n",
              "    </tr>\n",
              "    <tr>\n",
              "      <th>4</th>\n",
              "      <td>1.0</td>\n",
              "      <td>I drink a lot of green tea and was looking for...</td>\n",
              "      <td>1</td>\n",
              "    </tr>\n",
              "  </tbody>\n",
              "</table>\n",
              "</div>\n",
              "    <div class=\"colab-df-buttons\">\n",
              "\n",
              "  <div class=\"colab-df-container\">\n",
              "    <button class=\"colab-df-convert\" onclick=\"convertToInteractive('df-496f6e95-6c3c-41de-a2f5-45be524130dd')\"\n",
              "            title=\"Convert this dataframe to an interactive table.\"\n",
              "            style=\"display:none;\">\n",
              "\n",
              "  <svg xmlns=\"http://www.w3.org/2000/svg\" height=\"24px\" viewBox=\"0 -960 960 960\">\n",
              "    <path d=\"M120-120v-720h720v720H120Zm60-500h600v-160H180v160Zm220 220h160v-160H400v160Zm0 220h160v-160H400v160ZM180-400h160v-160H180v160Zm440 0h160v-160H620v160ZM180-180h160v-160H180v160Zm440 0h160v-160H620v160Z\"/>\n",
              "  </svg>\n",
              "    </button>\n",
              "\n",
              "  <style>\n",
              "    .colab-df-container {\n",
              "      display:flex;\n",
              "      gap: 12px;\n",
              "    }\n",
              "\n",
              "    .colab-df-convert {\n",
              "      background-color: #E8F0FE;\n",
              "      border: none;\n",
              "      border-radius: 50%;\n",
              "      cursor: pointer;\n",
              "      display: none;\n",
              "      fill: #1967D2;\n",
              "      height: 32px;\n",
              "      padding: 0 0 0 0;\n",
              "      width: 32px;\n",
              "    }\n",
              "\n",
              "    .colab-df-convert:hover {\n",
              "      background-color: #E2EBFA;\n",
              "      box-shadow: 0px 1px 2px rgba(60, 64, 67, 0.3), 0px 1px 3px 1px rgba(60, 64, 67, 0.15);\n",
              "      fill: #174EA6;\n",
              "    }\n",
              "\n",
              "    .colab-df-buttons div {\n",
              "      margin-bottom: 4px;\n",
              "    }\n",
              "\n",
              "    [theme=dark] .colab-df-convert {\n",
              "      background-color: #3B4455;\n",
              "      fill: #D2E3FC;\n",
              "    }\n",
              "\n",
              "    [theme=dark] .colab-df-convert:hover {\n",
              "      background-color: #434B5C;\n",
              "      box-shadow: 0px 1px 3px 1px rgba(0, 0, 0, 0.15);\n",
              "      filter: drop-shadow(0px 1px 2px rgba(0, 0, 0, 0.3));\n",
              "      fill: #FFFFFF;\n",
              "    }\n",
              "  </style>\n",
              "\n",
              "    <script>\n",
              "      const buttonEl =\n",
              "        document.querySelector('#df-496f6e95-6c3c-41de-a2f5-45be524130dd button.colab-df-convert');\n",
              "      buttonEl.style.display =\n",
              "        google.colab.kernel.accessAllowed ? 'block' : 'none';\n",
              "\n",
              "      async function convertToInteractive(key) {\n",
              "        const element = document.querySelector('#df-496f6e95-6c3c-41de-a2f5-45be524130dd');\n",
              "        const dataTable =\n",
              "          await google.colab.kernel.invokeFunction('convertToInteractive',\n",
              "                                                    [key], {});\n",
              "        if (!dataTable) return;\n",
              "\n",
              "        const docLinkHtml = 'Like what you see? Visit the ' +\n",
              "          '<a target=\"_blank\" href=https://colab.research.google.com/notebooks/data_table.ipynb>data table notebook</a>'\n",
              "          + ' to learn more about interactive tables.';\n",
              "        element.innerHTML = '';\n",
              "        dataTable['output_type'] = 'display_data';\n",
              "        await google.colab.output.renderOutput(dataTable, element);\n",
              "        const docLink = document.createElement('div');\n",
              "        docLink.innerHTML = docLinkHtml;\n",
              "        element.appendChild(docLink);\n",
              "      }\n",
              "    </script>\n",
              "  </div>\n",
              "\n",
              "\n",
              "<div id=\"df-707dcfaf-a812-4ac7-8214-fe4be1142ab1\">\n",
              "  <button class=\"colab-df-quickchart\" onclick=\"quickchart('df-707dcfaf-a812-4ac7-8214-fe4be1142ab1')\"\n",
              "            title=\"Suggest charts.\"\n",
              "            style=\"display:none;\">\n",
              "\n",
              "<svg xmlns=\"http://www.w3.org/2000/svg\" height=\"24px\"viewBox=\"0 0 24 24\"\n",
              "     width=\"24px\">\n",
              "    <g>\n",
              "        <path d=\"M19 3H5c-1.1 0-2 .9-2 2v14c0 1.1.9 2 2 2h14c1.1 0 2-.9 2-2V5c0-1.1-.9-2-2-2zM9 17H7v-7h2v7zm4 0h-2V7h2v10zm4 0h-2v-4h2v4z\"/>\n",
              "    </g>\n",
              "</svg>\n",
              "  </button>\n",
              "\n",
              "<style>\n",
              "  .colab-df-quickchart {\n",
              "    background-color: #E8F0FE;\n",
              "    border: none;\n",
              "    border-radius: 50%;\n",
              "    cursor: pointer;\n",
              "    display: none;\n",
              "    fill: #1967D2;\n",
              "    height: 32px;\n",
              "    padding: 0 0 0 0;\n",
              "    width: 32px;\n",
              "  }\n",
              "\n",
              "  .colab-df-quickchart:hover {\n",
              "    background-color: #E2EBFA;\n",
              "    box-shadow: 0px 1px 2px rgba(60, 64, 67, 0.3), 0px 1px 3px 1px rgba(60, 64, 67, 0.15);\n",
              "    fill: #174EA6;\n",
              "  }\n",
              "\n",
              "  [theme=dark] .colab-df-quickchart {\n",
              "    background-color: #3B4455;\n",
              "    fill: #D2E3FC;\n",
              "  }\n",
              "\n",
              "  [theme=dark] .colab-df-quickchart:hover {\n",
              "    background-color: #434B5C;\n",
              "    box-shadow: 0px 1px 3px 1px rgba(0, 0, 0, 0.15);\n",
              "    filter: drop-shadow(0px 1px 2px rgba(0, 0, 0, 0.3));\n",
              "    fill: #FFFFFF;\n",
              "  }\n",
              "</style>\n",
              "\n",
              "  <script>\n",
              "    async function quickchart(key) {\n",
              "      const charts = await google.colab.kernel.invokeFunction(\n",
              "          'suggestCharts', [key], {});\n",
              "    }\n",
              "    (() => {\n",
              "      let quickchartButtonEl =\n",
              "        document.querySelector('#df-707dcfaf-a812-4ac7-8214-fe4be1142ab1 button');\n",
              "      quickchartButtonEl.style.display =\n",
              "        google.colab.kernel.accessAllowed ? 'block' : 'none';\n",
              "    })();\n",
              "  </script>\n",
              "</div>\n",
              "    </div>\n",
              "  </div>\n"
            ]
          },
          "metadata": {},
          "execution_count": 14
        }
      ]
    },
    {
      "cell_type": "code",
      "source": [
        "# Crear el archivo CSV con el DataFrame actual\n",
        "data_file.to_csv('data_file.csv', index=False)"
      ],
      "metadata": {
        "id": "2iCejvhKb6T4"
      },
      "execution_count": 15,
      "outputs": []
    },
    {
      "cell_type": "code",
      "source": [
        "aux_df = pd.DataFrame(data_file['sentiment_label'].value_counts(sort=False).sort_index())\n",
        "aux_df = aux_df.plot(kind='bar', title='Sentiment distribution (Corpus Final)', figsize=(8, 4))"
      ],
      "metadata": {
        "colab": {
          "base_uri": "https://localhost:8080/",
          "height": 385
        },
        "id": "P7WCFdsV1YvA",
        "outputId": "f732e092-55fb-45b3-ab69-16ebf8cbc37d"
      },
      "execution_count": 16,
      "outputs": [
        {
          "output_type": "display_data",
          "data": {
            "text/plain": [
              "<Figure size 800x400 with 1 Axes>"
            ],
            "image/png": "[encoded data removed]"
          },
          "metadata": {}
        }
      ]
    },
    {
      "cell_type": "markdown",
      "source": [
        "**Visualización de ngrams para ver las palabras más repetidas para posteriormente ser parte de la lista de StopWords**"
      ],
      "metadata": {
        "id": "qamqM5c3K6rs"
      }
    },
    {
      "cell_type": "code",
      "source": [
        "from nltk import ngrams # Exploración\n",
        "\n",
        "bigrams_ = ngrams(words, 2)\n",
        "trigrams_ = ngrams(words, 3)"
      ],
      "metadata": {
        "id": "Jj32SUPH2qDe"
      },
      "execution_count": 17,
      "outputs": []
    },
    {
      "cell_type": "code",
      "source": [
        "from nltk.probability import FreqDist # Exploración\n",
        "\n",
        "bigrams_freq_ = FreqDist(bigrams_)\n",
        "trigrams_freq_ = FreqDist(trigrams_)"
      ],
      "metadata": {
        "id": "CRToivzB21FD"
      },
      "execution_count": 18,
      "outputs": []
    },
    {
      "cell_type": "code",
      "source": [
        "bigrams_freq_.most_common(100)"
      ],
      "metadata": {
        "colab": {
          "base_uri": "https://localhost:8080/"
        },
        "id": "qDZlk41c2-c7",
        "outputId": "f021bf89-3cbf-43f7-8c52-b9f411e35512"
      },
      "execution_count": 19,
      "outputs": [
        {
          "output_type": "execute_result",
          "data": {
            "text/plain": [
              "[(('of', 'the'), 2416),\n",
              " (('in', 'the'), 2277),\n",
              " (('it', 'is'), 1961),\n",
              " (('i', 'was'), 1874),\n",
              " (('i', 'have'), 1860),\n",
              " (('this', 'is'), 1786),\n",
              " (('it', 'was'), 1722),\n",
              " (('and', 'i'), 1177),\n",
              " (('if', 'you'), 1177),\n",
              " (('is', 'a'), 1172),\n",
              " (('i', 'am'), 1104),\n",
              " (('but', 'i'), 1102),\n",
              " (('for', 'the'), 1051),\n",
              " (('for', 'a'), 1044),\n",
              " (('and', 'the'), 1016),\n",
              " (('on', 'the'), 999),\n",
              " (('to', 'be'), 999),\n",
              " (('to', 'the'), 997),\n",
              " (('i', 'would'), 968),\n",
              " (('in', 'a'), 927),\n",
              " (('when', 'i'), 890),\n",
              " (('i', 'had'), 877),\n",
              " (('and', 'it'), 872),\n",
              " (('a', 'little'), 860),\n",
              " (('this', 'product'), 840),\n",
              " (('is', 'not'), 817),\n",
              " (('i', 'will'), 795),\n",
              " (('that', 'i'), 786),\n",
              " (('so', 'i'), 784),\n",
              " (('with', 'the'), 780),\n",
              " (('in', 'my'), 739),\n",
              " (('i', 'love'), 739),\n",
              " (('like', 'the'), 737),\n",
              " (('i', \"don't\"), 734),\n",
              " (('this', 'tea'), 720),\n",
              " (('but', 'it'), 690),\n",
              " (('was', 'a'), 689),\n",
              " (('i', 'bought'), 684),\n",
              " (('as', 'a'), 669),\n",
              " (('is', 'the'), 664),\n",
              " (('but', 'the'), 664),\n",
              " (('a', 'good'), 656),\n",
              " (('they', 'are'), 641),\n",
              " (('the', 'taste'), 638),\n",
              " (('has', 'a'), 625),\n",
              " (('with', 'a'), 624),\n",
              " (('did', 'not'), 615),\n",
              " (('to', 'get'), 609),\n",
              " (('what', 'i'), 599),\n",
              " (('i', 'like'), 579),\n",
              " (('the', 'same'), 563),\n",
              " (('of', 'this'), 559),\n",
              " (('they', 'were'), 559),\n",
              " (('the', 'tea'), 553),\n",
              " (('a', 'bit'), 539),\n",
              " (('for', 'my'), 538),\n",
              " (('have', 'to'), 537),\n",
              " (('at', 'the'), 536),\n",
              " (('the', 'flavor'), 536),\n",
              " (('to', 'make'), 533),\n",
              " (('have', 'been'), 532),\n",
              " (('it', 'has'), 529),\n",
              " (('a', 'lot'), 523),\n",
              " (('the', 'best'), 521),\n",
              " (('i', 'can'), 518),\n",
              " (('have', 'a'), 516),\n",
              " (('to', 'use'), 515),\n",
              " (('it', 'in'), 505),\n",
              " (('a', 'few'), 500),\n",
              " (('the', 'product'), 495),\n",
              " (('this', 'was'), 490),\n",
              " (('the', 'price'), 475),\n",
              " (('it', 'to'), 462),\n",
              " (('as', 'i'), 455),\n",
              " (('i', 'ordered'), 454),\n",
              " (('from', 'the'), 443),\n",
              " (('i', 'thought'), 443),\n",
              " (('was', 'not'), 435),\n",
              " (('that', 'it'), 431),\n",
              " (('of', 'a'), 430),\n",
              " (('you', 'can'), 427),\n",
              " (('out', 'of'), 423),\n",
              " (('would', 'be'), 421),\n",
              " (('not', 'the'), 418),\n",
              " (('do', 'not'), 417),\n",
              " (('had', 'to'), 416),\n",
              " (('one', 'of'), 413),\n",
              " (('a', 'great'), 411),\n",
              " (('i', 'could'), 409),\n",
              " (('i', 'think'), 407),\n",
              " (('not', 'a'), 405),\n",
              " (('there', 'is'), 402),\n",
              " (('to', 'find'), 402),\n",
              " (('a', 'very'), 401),\n",
              " (('all', 'the'), 398),\n",
              " (('that', 'the'), 398),\n",
              " (('i', \"didn't\"), 396),\n",
              " (('tea', 'is'), 389),\n",
              " (('like', 'a'), 387),\n",
              " (('does', 'not'), 385)]"
            ]
          },
          "metadata": {},
          "execution_count": 19
        }
      ]
    },
    {
      "cell_type": "code",
      "source": [
        "trigrams_freq_.most_common(100)"
      ],
      "metadata": {
        "colab": {
          "base_uri": "https://localhost:8080/"
        },
        "id": "n4_6vDpu3FnK",
        "outputId": "98558e5d-5038-48d4-e5ca-0b35e5480db9"
      },
      "execution_count": 20,
      "outputs": [
        {
          "output_type": "execute_result",
          "data": {
            "text/plain": [
              "[(('this', 'is', 'a'), 368),\n",
              " (('a', 'lot', 'of'), 327),\n",
              " (('this', 'is', 'the'), 277),\n",
              " (('i', 'bought', 'this'), 259),\n",
              " (('it', 'was', 'a'), 226),\n",
              " (('it', 'is', 'a'), 226),\n",
              " (('i', 'had', 'to'), 224),\n",
              " (('i', 'have', 'been'), 224),\n",
              " (('and', 'it', 'was'), 213),\n",
              " (('if', 'you', 'are'), 211),\n",
              " (('as', 'good', 'as'), 205),\n",
              " (('it', 'has', 'a'), 204),\n",
              " (('one', 'of', 'the'), 200),\n",
              " (('it', 'is', 'not'), 197),\n",
              " (('if', 'you', 'like'), 186),\n",
              " (('i', \"don't\", 'know'), 185),\n",
              " (('i', 'would', 'not'), 183),\n",
              " (('this', 'tea', 'is'), 182),\n",
              " (('i', 'have', 'to'), 175),\n",
              " (('some', 'of', 'the'), 172),\n",
              " (('i', 'did', 'not'), 169),\n",
              " (('the', 'taste', 'is'), 167),\n",
              " (('the', 'taste', 'of'), 166),\n",
              " (('i', 'am', 'not'), 165),\n",
              " (('out', 'of', 'the'), 155),\n",
              " (('if', 'you', 'want'), 154),\n",
              " (('this', 'is', 'not'), 154),\n",
              " (('i', 'like', 'the'), 153),\n",
              " (('i', 'will', 'not'), 150),\n",
              " (('this', 'product', 'is'), 149),\n",
              " (('i', 'was', 'looking'), 149),\n",
              " (('i', 'love', 'this'), 148),\n",
              " (('it', 'would', 'be'), 148),\n",
              " (('it', 'in', 'the'), 148),\n",
              " (('the', 'flavor', 'is'), 144),\n",
              " (('and', 'it', 'is'), 141),\n",
              " (('i', 'do', 'not'), 139),\n",
              " (('not', 'what', 'i'), 131),\n",
              " (('i', 'was', 'very'), 127),\n",
              " (('i', 'would', 'have'), 127),\n",
              " (('but', 'it', 'is'), 125),\n",
              " (('the', 'flavor', 'of'), 123),\n",
              " (('i', 'was', 'hoping'), 122),\n",
              " (('a', 'couple', 'of'), 120),\n",
              " (('a', 'bit', 'of'), 120),\n",
              " (('looking', 'for', 'a'), 117),\n",
              " (('i', 'love', 'the'), 117),\n",
              " (('is', 'a', 'good'), 117),\n",
              " (('is', 'the', 'best'), 114),\n",
              " (('i', 'ordered', 'this'), 113),\n",
              " (('i', 'used', 'to'), 111),\n",
              " (('what', 'i', 'was'), 111),\n",
              " (('it', 'tastes', 'like'), 108),\n",
              " (('this', 'is', 'my'), 106),\n",
              " (('i', 'have', 'tried'), 106),\n",
              " (('to', 'be', 'a'), 105),\n",
              " (('this', 'was', 'a'), 105),\n",
              " (('was', 'a', 'little'), 104),\n",
              " (('i', 'thought', 'i'), 103),\n",
              " (('there', 'is', 'no'), 103),\n",
              " (('is', 'a', 'great'), 103),\n",
              " (('this', 'stuff', 'is'), 101),\n",
              " (('i', 'use', 'it'), 101),\n",
              " (('i', 'am', 'a'), 100),\n",
              " (('as', 'a', 'gift'), 100),\n",
              " (('to', 'make', 'a'), 97),\n",
              " (('i', 'could', 'not'), 96),\n",
              " (('will', 'not', 'buy'), 96),\n",
              " (('i', 'have', 'a'), 96),\n",
              " (('but', 'this', 'is'), 95),\n",
              " (('you', 'have', 'to'), 94),\n",
              " (('if', 'you', 'have'), 94),\n",
              " (('not', 'as', 'good'), 94),\n",
              " (('was', 'looking', 'for'), 93),\n",
              " (('this', 'as', 'a'), 93),\n",
              " (('there', 'is', 'a'), 92),\n",
              " (('that', 'it', 'is'), 92),\n",
              " (('as', 'well', 'as'), 91),\n",
              " (('i', 'thought', 'it'), 90),\n",
              " (('the', 'price', 'is'), 90),\n",
              " (('i', 'was', 'expecting'), 90),\n",
              " (('because', 'of', 'the'), 89),\n",
              " (('but', 'it', 'was'), 89),\n",
              " (('i', 'purchased', 'this'), 88),\n",
              " (('it', 'does', 'not'), 88),\n",
              " (('to', 'get', 'a'), 88),\n",
              " (('will', 'not', 'be'), 87),\n",
              " (('this', 'one', 'is'), 87),\n",
              " (('i', 'wanted', 'to'), 86),\n",
              " (('it', 'in', 'a'), 85),\n",
              " (('more', 'of', 'a'), 85),\n",
              " (('but', 'i', 'was'), 84),\n",
              " (('not', 'worth', 'the'), 84),\n",
              " (('it', 'was', 'not'), 84),\n",
              " (('but', 'if', 'you'), 83),\n",
              " (('the', 'first', 'time'), 83),\n",
              " (('is', 'not', 'the'), 83),\n",
              " (('i', 'would', 'recommend'), 83),\n",
              " ((\"i'm\", 'not', 'sure'), 82),\n",
              " (('to', 'get', 'the'), 82)]"
            ]
          },
          "metadata": {},
          "execution_count": 20
        }
      ]
    },
    {
      "cell_type": "markdown",
      "source": [
        "**Visualización de las palabras más relevantes utilizando Word Cloud**"
      ],
      "metadata": {
        "id": "OtVWws6bLNpX"
      }
    },
    {
      "cell_type": "code",
      "source": [
        "from wordcloud import WordCloud"
      ],
      "metadata": {
        "id": "77fEPkzSM8HQ"
      },
      "execution_count": 21,
      "outputs": []
    },
    {
      "cell_type": "code",
      "source": [
        "import matplotlib.pyplot as plt\n",
        "\n",
        "max_words = 10 # Máximo de palabras en el Word Cloud\n",
        "\n",
        "def plot_word_cloud(text):\n",
        "    wordcloud = WordCloud(max_font_size=50, max_words=max_words, background_color=\"white\").generate(' '.join(text))\n",
        "    plt.figure(figsize=(12,6))\n",
        "    plt.imshow(wordcloud, interpolation='bilinear')\n",
        "    plt.axis('off')\n",
        "    plt.show()"
      ],
      "metadata": {
        "id": "35Flvd-eNOD3"
      },
      "execution_count": 22,
      "outputs": []
    },
    {
      "cell_type": "code",
      "source": [
        "plot_word_cloud(words)"
      ],
      "metadata": {
        "colab": {
          "base_uri": "https://localhost:8080/",
          "height": 499
        },
        "id": "8X_0ZVRANY_f",
        "outputId": "e00c8efe-a6fa-42aa-e76a-1273f7e3b12c"
      },
      "execution_count": 23,
      "outputs": [
        {
          "output_type": "display_data",
          "data": {
            "text/plain": [
              "<Figure size 1200x600 with 1 Axes>"
            ],
            "image/png": "[encoded data removed]"
          },
          "metadata": {}
        }
      ]
    },
    {
      "cell_type": "markdown",
      "source": [
        "**Utilizando Word2Vec, se visualizan las 10 palabras más cercanas a las que aparecen en el Word Cloud**"
      ],
      "metadata": {
        "id": "apvI7rouMGNl"
      }
    },
    {
      "cell_type": "code",
      "source": [
        "#Ejercicio de aplicación con Word2Vec\n",
        "from gensim.models import Word2Vec\n",
        "from gensim.models.word2vec import LineSentence\n",
        "\n",
        "import re  # Para Preprocesamiento\n",
        "import pandas as pd\n",
        "from time import time  # Tiempo de las operaciones\n",
        "from collections import defaultdict  # Para Frecuencias de palabras\n",
        "\n",
        "import spacy  # Para prepocesamiento\n",
        "import logging  # Configuración de loggings para monitor gensim\n",
        "logging.basicConfig(format=\"%(levelname)s - %(asctime)s: %(message)s\", datefmt= '%H:%M:%S', level=logging.INFO)\n",
        "from gensim.models.phrases import Phrases, Phraser"
      ],
      "metadata": {
        "id": "ya8NgGDjVyov"
      },
      "execution_count": 24,
      "outputs": []
    },
    {
      "cell_type": "code",
      "source": [
        "df = pd.read_csv('/content/sampled_data_file.csv')\n",
        "df.shape"
      ],
      "metadata": {
        "colab": {
          "base_uri": "https://localhost:8080/"
        },
        "id": "f1xgJHS1VcnI",
        "outputId": "fd6a2dcf-c8cc-4baf-89da-85770be8bb8c"
      },
      "execution_count": 25,
      "outputs": [
        {
          "output_type": "execute_result",
          "data": {
            "text/plain": [
              "(17905, 2)"
            ]
          },
          "metadata": {},
          "execution_count": 25
        }
      ]
    },
    {
      "cell_type": "code",
      "source": [
        "df.head()"
      ],
      "metadata": {
        "colab": {
          "base_uri": "https://localhost:8080/",
          "height": 206
        },
        "id": "qw9MxQLMVinR",
        "outputId": "9c49dd41-0c10-462d-9747-ff9946daa0e0"
      },
      "execution_count": 26,
      "outputs": [
        {
          "output_type": "execute_result",
          "data": {
            "text/plain": [
              "   overall                                         reviewText\n",
              "0      1.0  I'm not sure where to begin. Truth is I'm a bi...\n",
              "1      1.0  Didn't read the description as well as I shoul...\n",
              "2      1.0  Awful, just awful.  But Amazon was very good a...\n",
              "3      1.0                                        Didn't work\n",
              "4      1.0  I drink a lot of green tea and was looking for..."
            ],
            "text/html": [
              "\n",
              "  <div id=\"df-2ed84d83-bd90-47af-9e7a-af494fdeb793\" class=\"colab-df-container\">\n",
              "    <div>\n",
              "<style scoped>\n",
              "    .dataframe tbody tr th:only-of-type {\n",
              "        vertical-align: middle;\n",
              "    }\n",
              "\n",
              "    .dataframe tbody tr th {\n",
              "        vertical-align: top;\n",
              "    }\n",
              "\n",
              "    .dataframe thead th {\n",
              "        text-align: right;\n",
              "    }\n",
              "</style>\n",
              "<table border=\"1\" class=\"dataframe\">\n",
              "  <thead>\n",
              "    <tr style=\"text-align: right;\">\n",
              "      <th></th>\n",
              "      <th>overall</th>\n",
              "      <th>reviewText</th>\n",
              "    </tr>\n",
              "  </thead>\n",
              "  <tbody>\n",
              "    <tr>\n",
              "      <th>0</th>\n",
              "      <td>1.0</td>\n",
              "      <td>I'm not sure where to begin. Truth is I'm a bi...</td>\n",
              "    </tr>\n",
              "    <tr>\n",
              "      <th>1</th>\n",
              "      <td>1.0</td>\n",
              "      <td>Didn't read the description as well as I shoul...</td>\n",
              "    </tr>\n",
              "    <tr>\n",
              "      <th>2</th>\n",
              "      <td>1.0</td>\n",
              "      <td>Awful, just awful.  But Amazon was very good a...</td>\n",
              "    </tr>\n",
              "    <tr>\n",
              "      <th>3</th>\n",
              "      <td>1.0</td>\n",
              "      <td>Didn't work</td>\n",
              "    </tr>\n",
              "    <tr>\n",
              "      <th>4</th>\n",
              "      <td>1.0</td>\n",
              "      <td>I drink a lot of green tea and was looking for...</td>\n",
              "    </tr>\n",
              "  </tbody>\n",
              "</table>\n",
              "</div>\n",
              "    <div class=\"colab-df-buttons\">\n",
              "\n",
              "  <div class=\"colab-df-container\">\n",
              "    <button class=\"colab-df-convert\" onclick=\"convertToInteractive('df-2ed84d83-bd90-47af-9e7a-af494fdeb793')\"\n",
              "            title=\"Convert this dataframe to an interactive table.\"\n",
              "            style=\"display:none;\">\n",
              "\n",
              "  <svg xmlns=\"http://www.w3.org/2000/svg\" height=\"24px\" viewBox=\"0 -960 960 960\">\n",
              "    <path d=\"M120-120v-720h720v720H120Zm60-500h600v-160H180v160Zm220 220h160v-160H400v160Zm0 220h160v-160H400v160ZM180-400h160v-160H180v160Zm440 0h160v-160H620v160ZM180-180h160v-160H180v160Zm440 0h160v-160H620v160Z\"/>\n",
              "  </svg>\n",
              "    </button>\n",
              "\n",
              "  <style>\n",
              "    .colab-df-container {\n",
              "      display:flex;\n",
              "      gap: 12px;\n",
              "    }\n",
              "\n",
              "    .colab-df-convert {\n",
              "      background-color: #E8F0FE;\n",
              "      border: none;\n",
              "      border-radius: 50%;\n",
              "      cursor: pointer;\n",
              "      display: none;\n",
              "      fill: #1967D2;\n",
              "      height: 32px;\n",
              "      padding: 0 0 0 0;\n",
              "      width: 32px;\n",
              "    }\n",
              "\n",
              "    .colab-df-convert:hover {\n",
              "      background-color: #E2EBFA;\n",
              "      box-shadow: 0px 1px 2px rgba(60, 64, 67, 0.3), 0px 1px 3px 1px rgba(60, 64, 67, 0.15);\n",
              "      fill: #174EA6;\n",
              "    }\n",
              "\n",
              "    .colab-df-buttons div {\n",
              "      margin-bottom: 4px;\n",
              "    }\n",
              "\n",
              "    [theme=dark] .colab-df-convert {\n",
              "      background-color: #3B4455;\n",
              "      fill: #D2E3FC;\n",
              "    }\n",
              "\n",
              "    [theme=dark] .colab-df-convert:hover {\n",
              "      background-color: #434B5C;\n",
              "      box-shadow: 0px 1px 3px 1px rgba(0, 0, 0, 0.15);\n",
              "      filter: drop-shadow(0px 1px 2px rgba(0, 0, 0, 0.3));\n",
              "      fill: #FFFFFF;\n",
              "    }\n",
              "  </style>\n",
              "\n",
              "    <script>\n",
              "      const buttonEl =\n",
              "        document.querySelector('#df-2ed84d83-bd90-47af-9e7a-af494fdeb793 button.colab-df-convert');\n",
              "      buttonEl.style.display =\n",
              "        google.colab.kernel.accessAllowed ? 'block' : 'none';\n",
              "\n",
              "      async function convertToInteractive(key) {\n",
              "        const element = document.querySelector('#df-2ed84d83-bd90-47af-9e7a-af494fdeb793');\n",
              "        const dataTable =\n",
              "          await google.colab.kernel.invokeFunction('convertToInteractive',\n",
              "                                                    [key], {});\n",
              "        if (!dataTable) return;\n",
              "\n",
              "        const docLinkHtml = 'Like what you see? Visit the ' +\n",
              "          '<a target=\"_blank\" href=https://colab.research.google.com/notebooks/data_table.ipynb>data table notebook</a>'\n",
              "          + ' to learn more about interactive tables.';\n",
              "        element.innerHTML = '';\n",
              "        dataTable['output_type'] = 'display_data';\n",
              "        await google.colab.output.renderOutput(dataTable, element);\n",
              "        const docLink = document.createElement('div');\n",
              "        docLink.innerHTML = docLinkHtml;\n",
              "        element.appendChild(docLink);\n",
              "      }\n",
              "    </script>\n",
              "  </div>\n",
              "\n",
              "\n",
              "<div id=\"df-11e50941-fdab-483f-bae1-8fc73bb92490\">\n",
              "  <button class=\"colab-df-quickchart\" onclick=\"quickchart('df-11e50941-fdab-483f-bae1-8fc73bb92490')\"\n",
              "            title=\"Suggest charts.\"\n",
              "            style=\"display:none;\">\n",
              "\n",
              "<svg xmlns=\"http://www.w3.org/2000/svg\" height=\"24px\"viewBox=\"0 0 24 24\"\n",
              "     width=\"24px\">\n",
              "    <g>\n",
              "        <path d=\"M19 3H5c-1.1 0-2 .9-2 2v14c0 1.1.9 2 2 2h14c1.1 0 2-.9 2-2V5c0-1.1-.9-2-2-2zM9 17H7v-7h2v7zm4 0h-2V7h2v10zm4 0h-2v-4h2v4z\"/>\n",
              "    </g>\n",
              "</svg>\n",
              "  </button>\n",
              "\n",
              "<style>\n",
              "  .colab-df-quickchart {\n",
              "    background-color: #E8F0FE;\n",
              "    border: none;\n",
              "    border-radius: 50%;\n",
              "    cursor: pointer;\n",
              "    display: none;\n",
              "    fill: #1967D2;\n",
              "    height: 32px;\n",
              "    padding: 0 0 0 0;\n",
              "    width: 32px;\n",
              "  }\n",
              "\n",
              "  .colab-df-quickchart:hover {\n",
              "    background-color: #E2EBFA;\n",
              "    box-shadow: 0px 1px 2px rgba(60, 64, 67, 0.3), 0px 1px 3px 1px rgba(60, 64, 67, 0.15);\n",
              "    fill: #174EA6;\n",
              "  }\n",
              "\n",
              "  [theme=dark] .colab-df-quickchart {\n",
              "    background-color: #3B4455;\n",
              "    fill: #D2E3FC;\n",
              "  }\n",
              "\n",
              "  [theme=dark] .colab-df-quickchart:hover {\n",
              "    background-color: #434B5C;\n",
              "    box-shadow: 0px 1px 3px 1px rgba(0, 0, 0, 0.15);\n",
              "    filter: drop-shadow(0px 1px 2px rgba(0, 0, 0, 0.3));\n",
              "    fill: #FFFFFF;\n",
              "  }\n",
              "</style>\n",
              "\n",
              "  <script>\n",
              "    async function quickchart(key) {\n",
              "      const charts = await google.colab.kernel.invokeFunction(\n",
              "          'suggestCharts', [key], {});\n",
              "    }\n",
              "    (() => {\n",
              "      let quickchartButtonEl =\n",
              "        document.querySelector('#df-11e50941-fdab-483f-bae1-8fc73bb92490 button');\n",
              "      quickchartButtonEl.style.display =\n",
              "        google.colab.kernel.accessAllowed ? 'block' : 'none';\n",
              "    })();\n",
              "  </script>\n",
              "</div>\n",
              "    </div>\n",
              "  </div>\n"
            ]
          },
          "metadata": {},
          "execution_count": 26
        }
      ]
    },
    {
      "cell_type": "code",
      "source": [
        "df.isnull().sum()"
      ],
      "metadata": {
        "colab": {
          "base_uri": "https://localhost:8080/"
        },
        "id": "oa4Xrx8NVnQR",
        "outputId": "deafc868-068e-402b-f624-8d69326275fd"
      },
      "execution_count": 27,
      "outputs": [
        {
          "output_type": "execute_result",
          "data": {
            "text/plain": [
              "overall       0\n",
              "reviewText    0\n",
              "dtype: int64"
            ]
          },
          "metadata": {},
          "execution_count": 27
        }
      ]
    },
    {
      "cell_type": "code",
      "source": [
        "df = df.dropna().reset_index(drop=True)\n",
        "df.isnull().sum()"
      ],
      "metadata": {
        "colab": {
          "base_uri": "https://localhost:8080/"
        },
        "id": "PZXBoyBFVqOo",
        "outputId": "b830a7b3-cb2e-406e-8bbf-0095c15d2e70"
      },
      "execution_count": 28,
      "outputs": [
        {
          "output_type": "execute_result",
          "data": {
            "text/plain": [
              "overall       0\n",
              "reviewText    0\n",
              "dtype: int64"
            ]
          },
          "metadata": {},
          "execution_count": 28
        }
      ]
    },
    {
      "cell_type": "code",
      "source": [
        "nlp = spacy.load(\"en_core_web_sm\")\n",
        "def cleaning(doc):\n",
        "    # Lematizamos y removemos stopwords\n",
        "    # doc necesita ser a spacy Doc object\n",
        "    txt = [token.lemma_ for token in doc if not token.is_stop]\n",
        "    # Word2Vec usa las palabras de contexto para aprender a representar el vector de una palabra ,\n",
        "    # si una sentencia tiene solo una o dos palabras ,\n",
        "    # el beneficio para el training es muy pequeño\n",
        "    if len(txt) > 2:\n",
        "        return ' '.join(txt)"
      ],
      "metadata": {
        "id": "uswly0RYVtSo"
      },
      "execution_count": 29,
      "outputs": []
    },
    {
      "cell_type": "code",
      "source": [
        "brief_cleaning = (re.sub(\"[^A-Za-z']+\", ' ', str(row)).lower() for row in df['reviewText'])"
      ],
      "metadata": {
        "id": "Yjl0NEoZV673"
      },
      "execution_count": 30,
      "outputs": []
    },
    {
      "cell_type": "code",
      "source": [
        "t = time()\n",
        "\n",
        "txt = [cleaning(doc) for doc in nlp.pipe(brief_cleaning, batch_size=5000)]\n",
        "\n",
        "print('Tiempo para limpiar todo: {} mins'.format(round((time() - t) / 60, 2)))"
      ],
      "metadata": {
        "colab": {
          "base_uri": "https://localhost:8080/"
        },
        "id": "vJvUmz5wWADo",
        "outputId": "6bfd78a2-5ff3-4e2c-ccc9-a6c19ce18905"
      },
      "execution_count": 31,
      "outputs": [
        {
          "output_type": "stream",
          "name": "stdout",
          "text": [
            "Tiempo para limpiar todo: 1.51 mins\n"
          ]
        }
      ]
    },
    {
      "cell_type": "code",
      "source": [
        "df_clean = pd.DataFrame({'clean': txt})\n",
        "df_clean = df_clean.dropna().drop_duplicates()\n",
        "df_clean.shape"
      ],
      "metadata": {
        "colab": {
          "base_uri": "https://localhost:8080/"
        },
        "id": "ubZvA40QWejh",
        "outputId": "c03f3c0d-54ae-4c02-d595-7ef426813667"
      },
      "execution_count": 32,
      "outputs": [
        {
          "output_type": "execute_result",
          "data": {
            "text/plain": [
              "(12459, 1)"
            ]
          },
          "metadata": {},
          "execution_count": 32
        }
      ]
    },
    {
      "cell_type": "code",
      "source": [
        "df_clean.to_csv('./df_clean.csv')"
      ],
      "metadata": {
        "id": "E9H4YHRQWs6I"
      },
      "execution_count": 33,
      "outputs": []
    },
    {
      "cell_type": "code",
      "source": [
        "import multiprocessing\n",
        "\n",
        "from gensim.models import Word2Vec"
      ],
      "metadata": {
        "id": "PXFY0SSOWyuh"
      },
      "execution_count": 34,
      "outputs": []
    },
    {
      "cell_type": "code",
      "source": [
        "cores = multiprocessing.cpu_count() # Contamos el número de cores en el ordenador\n",
        "print (cores)"
      ],
      "metadata": {
        "colab": {
          "base_uri": "https://localhost:8080/"
        },
        "id": "wqTimQN9W3Vo",
        "outputId": "6d5309a4-703c-4b96-9caa-a4500441ab12"
      },
      "execution_count": 35,
      "outputs": [
        {
          "output_type": "stream",
          "name": "stdout",
          "text": [
            "2\n"
          ]
        }
      ]
    },
    {
      "cell_type": "code",
      "source": [
        "w2v_model = Word2Vec(min_count=20,\n",
        "                     window=2,\n",
        "                     vector_size=300,\n",
        "                     sample=6e-5,\n",
        "                     alpha=0.03,\n",
        "                     min_alpha=0.0007,\n",
        "                     negative=20,\n",
        "                     workers=cores-1)"
      ],
      "metadata": {
        "id": "WWTxSf9ZW5vo"
      },
      "execution_count": 36,
      "outputs": []
    },
    {
      "cell_type": "code",
      "source": [
        "t = time()\n",
        "sent = [row.split() for row in df_clean['clean']]\n",
        "w2v_model.build_vocab(sent, progress_per=10000)\n",
        "\n",
        "print('Tiempo para construir el vocabulario: {} mins'.format(round((time() - t) / 60, 2)))"
      ],
      "metadata": {
        "colab": {
          "base_uri": "https://localhost:8080/"
        },
        "id": "9HAMAGf5W6yA",
        "outputId": "389b4d68-47a7-4223-b556-d718a2304232"
      },
      "execution_count": 37,
      "outputs": [
        {
          "output_type": "stream",
          "name": "stdout",
          "text": [
            "Tiempo para construir el vocabulario: 0.0 mins\n"
          ]
        }
      ]
    },
    {
      "cell_type": "code",
      "source": [
        "print('Vocabulario compuesto por {} palabras'.format(len(w2v_model.wv.key_to_index)))"
      ],
      "metadata": {
        "colab": {
          "base_uri": "https://localhost:8080/"
        },
        "id": "sg-c2IBKXEL4",
        "outputId": "eb7fbcaa-febc-4707-f172-1b6c29d61e3b"
      },
      "execution_count": 38,
      "outputs": [
        {
          "output_type": "stream",
          "name": "stdout",
          "text": [
            "Vocabulario compuesto por 1618 palabras\n"
          ]
        }
      ]
    },
    {
      "cell_type": "code",
      "source": [
        "t = time()\n",
        "\n",
        "w2v_model.train(sent, total_examples=w2v_model.corpus_count, epochs=30, report_delay=1)\n",
        "\n",
        "print('Time to train the model: {} mins'.format(round((time() - t) / 60, 2)))"
      ],
      "metadata": {
        "colab": {
          "base_uri": "https://localhost:8080/"
        },
        "id": "bzThofieXKJK",
        "outputId": "caf5ad7f-07f6-469e-8a4a-67600e46af16"
      },
      "execution_count": 39,
      "outputs": [
        {
          "output_type": "stream",
          "name": "stdout",
          "text": [
            "Time to train the model: 0.23 mins\n"
          ]
        }
      ]
    },
    {
      "cell_type": "code",
      "source": [
        "w2v_model.save('./w2v_model.pkl')"
      ],
      "metadata": {
        "id": "IEVawvx9XPpQ"
      },
      "execution_count": 40,
      "outputs": []
    },
    {
      "cell_type": "code",
      "source": [
        "# Obtener las palabras en el vocabulario\n",
        "vocab_words = w2v_model.wv.index_to_key\n",
        "\n",
        "# Obtener las primeras 10 palabras del vocabulario\n",
        "first_10_words = vocab_words[:10]\n",
        "\n",
        "print('Vocabulario compuesto por {} palabras'.format(len(vocab_words)))\n",
        "print('Primeras 10 palabras en el vocabulario:', first_10_words)"
      ],
      "metadata": {
        "colab": {
          "base_uri": "https://localhost:8080/"
        },
        "id": "F-GKzT6rX6T4",
        "outputId": "e0db3a0d-8d67-4ee3-f2d6-9c5341d241fc"
      },
      "execution_count": 41,
      "outputs": [
        {
          "output_type": "stream",
          "name": "stdout",
          "text": [
            "Vocabulario compuesto por 1618 palabras\n",
            "Primeras 10 palabras en el vocabulario: ['taste', 'tea', 'like', 'good', 'flavor', 'product', 'buy', 'great', 'try', 'coffee']\n"
          ]
        }
      ]
    },
    {
      "cell_type": "code",
      "source": [
        "w2v_model.wv.most_similar(positive=[\"taste\"])"
      ],
      "metadata": {
        "colab": {
          "base_uri": "https://localhost:8080/"
        },
        "id": "H-28NuMZXVzT",
        "outputId": "b88e5890-7b9a-4cc8-c149-95b1fd00e51c"
      },
      "execution_count": 42,
      "outputs": [
        {
          "output_type": "execute_result",
          "data": {
            "text/plain": [
              "[('weird', 0.897494912147522),\n",
              " ('like', 0.8849587440490723),\n",
              " ('tasting', 0.8627856373786926),\n",
              " ('fake', 0.8625025153160095),\n",
              " ('strange', 0.8587151169776917),\n",
              " ('unlike', 0.8581064343452454),\n",
              " ('odd', 0.8571665287017822),\n",
              " ('overly', 0.8542379140853882),\n",
              " ('kind', 0.8521733283996582),\n",
              " ('grainy', 0.8502684235572815)]"
            ]
          },
          "metadata": {},
          "execution_count": 42
        }
      ]
    },
    {
      "cell_type": "code",
      "source": [
        "w2v_model.wv.most_similar(positive=[\"tea\"])"
      ],
      "metadata": {
        "colab": {
          "base_uri": "https://localhost:8080/"
        },
        "id": "KcxHa4fkg6yn",
        "outputId": "093fe224-a823-4bd0-8460-cc42ba2a5b9a"
      },
      "execution_count": 43,
      "outputs": [
        {
          "output_type": "execute_result",
          "data": {
            "text/plain": [
              "[('lipton', 0.9131957292556763),\n",
              " ('iced', 0.907830536365509),\n",
              " ('peppermint', 0.8916898965835571),\n",
              " ('caffeinate', 0.8757825493812561),\n",
              " ('afternoon', 0.8752864599227905),\n",
              " ('awake', 0.8744349479675293),\n",
              " ('stash', 0.8682447075843811),\n",
              " ('republic', 0.8676424026489258),\n",
              " ('chamomile', 0.8641694784164429),\n",
              " ('calm', 0.860588788986206)]"
            ]
          },
          "metadata": {},
          "execution_count": 43
        }
      ]
    },
    {
      "cell_type": "code",
      "source": [
        "w2v_model.wv.most_similar(positive=[\"good\"])"
      ],
      "metadata": {
        "colab": {
          "base_uri": "https://localhost:8080/"
        },
        "id": "LaaZNh3Gji0d",
        "outputId": "b121791a-f880-4199-906c-41c9124db4d5"
      },
      "execution_count": 44,
      "outputs": [
        {
          "output_type": "execute_result",
          "data": {
            "text/plain": [
              "[('excellent', 0.8940829038619995),\n",
              " ('overall', 0.8915145397186279),\n",
              " ('great', 0.8834468722343445),\n",
              " ('pretty', 0.8817105889320374),\n",
              " ('tasty', 0.8775334358215332),\n",
              " ('usually', 0.8632782101631165),\n",
              " ('pricey', 0.862849771976471),\n",
              " ('outstanding', 0.8590061068534851),\n",
              " ('okay', 0.8515073657035828),\n",
              " ('especially', 0.8466700315475464)]"
            ]
          },
          "metadata": {},
          "execution_count": 44
        }
      ]
    },
    {
      "cell_type": "code",
      "source": [
        "w2v_model.wv.most_similar(positive=[\"like\"])"
      ],
      "metadata": {
        "colab": {
          "base_uri": "https://localhost:8080/"
        },
        "id": "s5iEj77UjpQF",
        "outputId": "bb116ee5-065f-4d31-f6d8-f4b32a555aaf"
      },
      "execution_count": 45,
      "outputs": [
        {
          "output_type": "execute_result",
          "data": {
            "text/plain": [
              "[('kind', 0.9039441347122192),\n",
              " ('slightly', 0.8884093761444092),\n",
              " ('weird', 0.8865618109703064),\n",
              " ('taste', 0.8849587440490723),\n",
              " ('unlike', 0.8829313516616821),\n",
              " ('remind', 0.8808635473251343),\n",
              " ('odd', 0.8801574110984802),\n",
              " ('grainy', 0.8744571208953857),\n",
              " ('overly', 0.8712977170944214),\n",
              " ('yuck', 0.8678699731826782)]"
            ]
          },
          "metadata": {},
          "execution_count": 45
        }
      ]
    },
    {
      "cell_type": "code",
      "source": [
        "w2v_model.wv.most_similar(positive=[\"flavor\"])"
      ],
      "metadata": {
        "colab": {
          "base_uri": "https://localhost:8080/"
        },
        "id": "c3vhfKXhrpjM",
        "outputId": "aeab1f10-6be3-4009-b62a-494f762d57d0"
      },
      "execution_count": 46,
      "outputs": [
        {
          "output_type": "execute_result",
          "data": {
            "text/plain": [
              "[('overpower', 0.9343419671058655),\n",
              " ('unique', 0.9326549172401428),\n",
              " ('slight', 0.9304832816123962),\n",
              " ('subtle', 0.9213457703590393),\n",
              " ('fruity', 0.9190925359725952),\n",
              " ('overwhelming', 0.9180694222450256),\n",
              " ('somewhat', 0.9160376191139221),\n",
              " ('hint', 0.9096971154212952),\n",
              " ('citrus', 0.9085027575492859),\n",
              " ('palate', 0.9049643278121948)]"
            ]
          },
          "metadata": {},
          "execution_count": 46
        }
      ]
    },
    {
      "cell_type": "code",
      "source": [
        "w2v_sg = Word2Vec.load('./w2v_model.pkl')"
      ],
      "metadata": {
        "id": "IuO8uwYQ5BhA"
      },
      "execution_count": 48,
      "outputs": []
    },
    {
      "cell_type": "code",
      "source": [
        "keys = ['taste','product','flavor'] # Palabras que se usarán para crear los clusters\n",
        "\n",
        "embedding_clusters = []\n",
        "word_clusters = []\n",
        "for word in keys:\n",
        "    embeddings = []\n",
        "    words = []\n",
        "    for similar_word, _ in w2v_sg.wv.most_similar(word, topn=10):\n",
        "        words.append(similar_word)\n",
        "        embeddings.append(w2v_sg.wv[similar_word])\n",
        "    embedding_clusters.append(embeddings)\n",
        "    word_clusters.append(words)"
      ],
      "metadata": {
        "id": "KmS1SIOC4rt6"
      },
      "execution_count": 49,
      "outputs": []
    },
    {
      "cell_type": "code",
      "source": [
        "print(word_clusters)"
      ],
      "metadata": {
        "colab": {
          "base_uri": "https://localhost:8080/"
        },
        "id": "Oi3zcF5Q5FDu",
        "outputId": "8fdba1bd-c59d-4929-990f-632733edbe94"
      },
      "execution_count": 50,
      "outputs": [
        {
          "output_type": "stream",
          "name": "stdout",
          "text": [
            "[['weird', 'like', 'tasting', 'fake', 'strange', 'unlike', 'odd', 'overly', 'kind', 'grainy'], ['specific', 'rating', 'warning', 'act', 'consumer', 'state', 'necessary', 'learn', 'beware', 'manufacture'], ['overpower', 'unique', 'slight', 'subtle', 'fruity', 'overwhelming', 'somewhat', 'hint', 'citrus', 'palate']]\n"
          ]
        }
      ]
    },
    {
      "cell_type": "markdown",
      "source": [
        "**Reducción de la dimensionalidad a 2D**"
      ],
      "metadata": {
        "id": "m4peVFAu6Aav"
      }
    },
    {
      "cell_type": "code",
      "source": [
        "from sklearn.manifold import TSNE\n",
        "\n",
        "tsne_model_2d = TSNE(perplexity=15, n_components=2, init='pca', n_iter=3500, random_state=32)"
      ],
      "metadata": {
        "id": "c8ba4fGm5IvJ"
      },
      "execution_count": 52,
      "outputs": []
    },
    {
      "cell_type": "code",
      "source": [
        "import numpy as np\n",
        "\n",
        "embedding_clusters = np.array(embedding_clusters)\n",
        "n, m, k = embedding_clusters.shape"
      ],
      "metadata": {
        "id": "cke1bzsg5P6g"
      },
      "execution_count": 54,
      "outputs": []
    },
    {
      "cell_type": "code",
      "source": [
        "embeddings_2d = np.array(tsne_model_2d.fit_transform(embedding_clusters.reshape(n * m, k))).reshape(n, m, 2)"
      ],
      "metadata": {
        "id": "Xtl1Zk5Y5WoH"
      },
      "execution_count": 55,
      "outputs": []
    },
    {
      "cell_type": "markdown",
      "source": [
        "**Visualización de los clusters**"
      ],
      "metadata": {
        "id": "gL6R1FUW5uwC"
      }
    },
    {
      "cell_type": "code",
      "source": [
        "import matplotlib.pyplot as plt\n",
        "import matplotlib.cm as cm\n",
        "import numpy as np\n",
        "%matplotlib inline\n",
        "\n",
        "\n",
        "def tsne_plot_similar_words(labels, embedding_clusters, word_clusters, a=0.7):\n",
        "    plt.figure(figsize=(16, 9))\n",
        "    colors = cm.rainbow(np.linspace(0, 1, len(labels)))\n",
        "    for label, embeddings, words, color in zip(labels, embedding_clusters, word_clusters, colors):\n",
        "        x = embeddings[:,0]\n",
        "        y = embeddings[:,1]\n",
        "        plt.scatter(x, y, c=[color], alpha=a, label=label)\n",
        "        for i, word in enumerate(words):\n",
        "            plt.annotate(word, alpha=0.5, xy=(x[i], y[i]), xytext=(5, 2),\n",
        "                         textcoords='offset points', ha='right', va='bottom', size=8)\n",
        "    plt.legend(loc=4)\n",
        "    plt.grid(True)\n",
        "    plt.title('Representación en 2D de los embeddings de algunos clusters de palabras')\n",
        "    # plt.savefig(\"f/г.png\", format='png', dpi=150, bbox_inches='tight')\n",
        "    plt.show()\n",
        "\n",
        "\n",
        "tsne_plot_similar_words(keys, embeddings_2d, word_clusters)"
      ],
      "metadata": {
        "colab": {
          "base_uri": "https://localhost:8080/",
          "height": 742
        },
        "id": "jxqGJktU5Z4Y",
        "outputId": "a83c821b-527e-4800-e297-eb7b289f7bec"
      },
      "execution_count": 56,
      "outputs": [
        {
          "output_type": "display_data",
          "data": {
            "text/plain": [
              "<Figure size 1600x900 with 1 Axes>"
            ],
            "image/png": "[encoded data removed]"
          },
          "metadata": {}
        }
      ]
    },
    {
      "cell_type": "markdown",
      "source": [
        "# **Conclusiones de la exploración**"
      ],
      "metadata": {
        "id": "ANq6ucRX6NhP"
      }
    },
    {
      "cell_type": "markdown",
      "source": [
        "Con los comentarios explorados, se observa una inclinación a palabras positivas como 'Good' y 'Great'. También hay tendencias hacia productos relacionados con bebidas como 'Tea' y 'Coffee'.\n",
        "\n",
        "En cuanto a los clusters de palabras, parece que el cluster 'Taste' tiene mayor tendencia a palabras negativas, como 'Fake', 'Weird' y 'Odd'. El cluster 'Flavor' parece tener mayor tendencia a palabras positivas, como 'sutle', 'fruity', 'slight'."
      ],
      "metadata": {
        "id": "FrU21unm6ZL3"
      }
    }
  ]
}